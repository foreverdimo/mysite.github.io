{
 "metadata": {
  "language_info": {
   "codemirror_mode": {
    "name": "ipython",
    "version": 3
   },
   "file_extension": ".py",
   "mimetype": "text/x-python",
   "name": "python",
   "nbconvert_exporter": "python",
   "pygments_lexer": "ipython3",
   "version": "3.8.3"
  },
  "orig_nbformat": 2,
  "kernelspec": {
   "name": "python383jvsc74a57bd01e915f0a29dc84041eaeb02b7b1a21c440e37a87b61d44d5e84a515737dc82bc",
   "display_name": "Python 3.8.3 64-bit (conda)"
  }
 },
 "nbformat": 4,
 "nbformat_minor": 2,
 "cells": [
  {
   "cell_type": "code",
   "execution_count": 18,
   "metadata": {},
   "outputs": [],
   "source": [
    "import jieba\n",
    "import jieba.posseg as pseg\n",
    "from pyecharts import options as opts\n",
    "from pyecharts.charts import Graph\n",
    "\n",
    "\n",
    "txt_file_name = './data/水浒传.txt'\n",
    "node_file_name = './output/水浒传-人物节点.csv'\n",
    "link_file_name = './output/水浒传-人物连接.csv'\n",
    "out_file_name = './output/关系图-水浒人物.html'\n",
    "\n",
    "with open(txt_file_name,\"r+\",encoding=\"utf-8\") as f:\n",
    "    line_list = f.readlines()\n",
    "\n",
    "jieba.load_userdict('./data/userdict.txt')\n"
   ]
  },
  {
   "cell_type": "code",
   "execution_count": 19,
   "metadata": {},
   "outputs": [
    {
     "output_type": "stream",
     "name": "stdout",
     "text": [
      "正在分段统计……\n",
      "已处理词数：\n",
      "-------------------------------------------------------------------------------------------------------------------------------------------------------------------------------------------------------------------------------------------------> 241千\n",
      "基础数据处理完成\n"
     ]
    }
   ],
   "source": [
    "\n",
    "line_name_list = []  # 每个段落出现的人物列表\n",
    "name_cnt_dict = {}  # 统计人物出现次数\n",
    "print('正在分段统计……')\n",
    "print('已处理词数：')\n",
    "\n",
    "ignore_list = [\"言语\",\"太尉\",\"太公\",\"梁山泊\",\"寻思\",\"相公\",\"言语\",\"大官人\",\"招安\",\"安抚\",\"\"]\n",
    "\n",
    "progress = 0  # 用于计算进度条\n",
    "for line in line_list: # 逐个段落循环处理\n",
    "    word_gen = pseg.cut(line) # peseg.cut返回分词结果，“生成器”类型\n",
    "    line_name_list.append([])\n",
    "    \n",
    "    for one in word_gen:\n",
    "        word = one.word\n",
    "        flag = one.flag\n",
    "        \n",
    "        if len(word) == 1:  # 跳过单字词\n",
    "            continue\n",
    "        \n",
    "        if word in ignore_list:  # 跳过标记忽略的人名 \n",
    "            continue\n",
    "        \n",
    "        # 对指代同一人物的名词进行合并\n",
    "        if word == '宋江道' or word == '宋公明' or word == \"公明\" or word == \"宋江便\":\n",
    "            word = '宋江'\n",
    "        elif word == '高太尉':\n",
    "            word = '高俅'  \n",
    "        elif word == '戴宗道':\n",
    "            word = '戴宗'\n",
    "        elif word == '和尚':\n",
    "            word = '鲁智深'\n",
    "            \n",
    "        if flag == 'nr': \n",
    "            line_name_list[-1].append(word)\n",
    "            if word in name_cnt_dict.keys():\n",
    "                name_cnt_dict[word] = name_cnt_dict[word] + 1\n",
    "            else:\n",
    "                name_cnt_dict[word] = 1\n",
    "        \n",
    "        progress = progress + 1\n",
    "        progress_quo = int (progress/1000)\n",
    "        progress_mod = progress % 1000 \n",
    "        if progress_mod == 0: \n",
    "            #print('---已处理词数（千）：' + str(progress_quo))\n",
    "            print('\\r' + '-'*progress_quo + '> '\\\n",
    "                  + str(progress_quo) + '千', end='')\n",
    "# 循环结束点        \n",
    "print()\n",
    "print('基础数据处理完成')"
   ]
  },
  {
   "cell_type": "code",
   "execution_count": 20,
   "metadata": {},
   "outputs": [
    {
     "output_type": "stream",
     "name": "stdout",
     "text": [
      "共现统计完成，仅统计出现次数达到100及以上的人物\n"
     ]
    }
   ],
   "source": [
    "##--- 第2步：用字典统计人名“共现”数量（relation_dict）\n",
    "relation_dict = {}\n",
    "\n",
    "# 只统计出现次数达到限制数的人名\n",
    "name_cnt_limit = 100  \n",
    "\n",
    "for line_name in line_name_list:\n",
    "    for name1 in line_name:\n",
    "        # 判断该人物name1是否在字典中\n",
    "        if name1 in relation_dict.keys():\n",
    "            pass  # 如果已经在字典中，继续后面的统计工作\n",
    "        elif name_cnt_dict[name1] >= name_cnt_limit:  # 只统计出现较多的人物\n",
    "            relation_dict[name1] = {}  # 添加到字典\n",
    "            #print('add ' + name1)  # 测试点\n",
    "        else:  # 跳过出现次数较少的人物\n",
    "            continue\n",
    "        \n",
    "        # 统计name1与本段的所有人名（除了name1自身）的共现数量\n",
    "        for name2 in line_name:\n",
    "            if name2 == name1 or name_cnt_dict[name2] < name_cnt_limit:  \n",
    "            # 不统计name1自身；不统计出现较少的人物\n",
    "                continue\n",
    "            \n",
    "            if name2 in relation_dict[name1].keys():\n",
    "                relation_dict[name1][name2] = relation_dict[name1][name2] + 1\n",
    "            else:\n",
    "                relation_dict[name1][name2] = 1\n",
    "\n",
    "print('共现统计完成，仅统计出现次数达到' + str(name_cnt_limit) + '及以上的人物')"
   ]
  },
  {
   "cell_type": "code",
   "execution_count": 21,
   "metadata": {},
   "outputs": [
    {
     "output_type": "stream",
     "name": "stdout",
     "text": [
      "人物数量：49\n已写入文件：./output/水浒传-人物节点.csv\n只导出数量达到10及以上的连接\n连接数量：1274\n已写入文件：./output/水浒传-人物连接.csv\n"
     ]
    }
   ],
   "source": [
    "item_list = list(name_cnt_dict.items())\n",
    "item_list.sort(key=lambda x:x[1],reverse=True)\n",
    "## 导出节点文件\n",
    "node_file = open(node_file_name, 'w+') \n",
    "# 节点文件，格式：Name,Weight -> 人名,出现次数\n",
    "node_file.write('Name,Weight\\n')\n",
    "node_cnt = 0  # 累计写入文件的节点数量\n",
    "for name,cnt in item_list: \n",
    "    if cnt >= name_cnt_limit:  # 只输出出现较多的人物\n",
    "        node_file.write(name + ',' + str(cnt) + '\\n')\n",
    "        node_cnt = node_cnt + 1\n",
    "node_file.close()\n",
    "print('人物数量：' + str(node_cnt))\n",
    "print('已写入文件：' + node_file_name)\n",
    "\n",
    "## 导出连接文件\n",
    "# 共现数可以看做是连接的权重，只导出权重达到限制数的连接\n",
    "link_cnt_limit = 10  \n",
    "print('只导出数量达到' + str(link_cnt_limit) + '及以上的连接')\n",
    "\n",
    "link_file = open(link_file_name, 'w+')\n",
    "# 连接文件，格式：Source,Target,Weight -> 人名1,人名2,共现数量\n",
    "link_file.write('Source,Target,Weight\\n')\n",
    "link_cnt = 0  # 累计写入文件的连接数量\n",
    "for name1,link_dict in relation_dict.items():\n",
    "    for name2,link in link_dict.items():\n",
    "        if link >= link_cnt_limit:  # 只输出权重较大的连接\n",
    "            link_file.write(name1 + ',' + name2 + ',' + str(link) + '\\n')\n",
    "            link_cnt = link_cnt + 1\n",
    "link_file.close()\n",
    "print('连接数量：' + str(link_cnt))\n",
    "print('已写入文件：' + link_file_name)      "
   ]
  },
  {
   "cell_type": "code",
   "execution_count": null,
   "metadata": {},
   "outputs": [],
   "source": []
  }
 ]
}